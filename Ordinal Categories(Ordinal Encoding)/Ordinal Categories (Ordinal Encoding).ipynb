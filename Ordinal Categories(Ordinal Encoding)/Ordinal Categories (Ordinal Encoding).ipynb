{
 "cells": [
  {
   "cell_type": "code",
   "execution_count": 1,
   "id": "c315d4b0",
   "metadata": {},
   "outputs": [],
   "source": [
    "import pandas as pd\n",
    "import datetime"
   ]
  },
  {
   "cell_type": "code",
   "execution_count": 2,
   "id": "c5c413f7",
   "metadata": {},
   "outputs": [
    {
     "data": {
      "text/plain": [
       "0    2023-03-17 23:23:44.779937\n",
       "1    2023-03-16 23:23:44.779937\n",
       "2    2023-03-15 23:23:44.779937\n",
       "3    2023-03-14 23:23:44.779937\n",
       "4    2023-03-13 23:23:44.779937\n",
       "5    2023-03-12 23:23:44.779937\n",
       "6    2023-03-11 23:23:44.779937\n",
       "7    2023-03-10 23:23:44.779937\n",
       "8    2023-03-09 23:23:44.779937\n",
       "9    2023-03-08 23:23:44.779937\n",
       "10   2023-03-07 23:23:44.779937\n",
       "11   2023-03-06 23:23:44.779937\n",
       "12   2023-03-05 23:23:44.779937\n",
       "13   2023-03-04 23:23:44.779937\n",
       "14   2023-03-03 23:23:44.779937\n",
       "15   2023-03-02 23:23:44.779937\n",
       "16   2023-03-01 23:23:44.779937\n",
       "17   2023-02-28 23:23:44.779937\n",
       "18   2023-02-27 23:23:44.779937\n",
       "19   2023-02-26 23:23:44.779937\n",
       "Name: day, dtype: datetime64[ns]"
      ]
     },
     "execution_count": 2,
     "metadata": {},
     "output_type": "execute_result"
    }
   ],
   "source": [
    "df_base = datetime.datetime.today()\n",
    "df_date_list = [df_base-datetime.timedelta(days = x) for x in range (0,20)]\n",
    "df = pd.DataFrame(df_date_list)\n",
    "df.columns = [\"day\"]\n",
    "df['day']"
   ]
  },
  {
   "cell_type": "code",
   "execution_count": 3,
   "id": "4b519bfe",
   "metadata": {},
   "outputs": [],
   "source": [
    "df[\"day_of_week\"] = df['day'].dt.strftime('%A')"
   ]
  },
  {
   "cell_type": "code",
   "execution_count": 4,
   "id": "2cd6fae9",
   "metadata": {},
   "outputs": [
    {
     "data": {
      "text/html": [
       "<div>\n",
       "<style scoped>\n",
       "    .dataframe tbody tr th:only-of-type {\n",
       "        vertical-align: middle;\n",
       "    }\n",
       "\n",
       "    .dataframe tbody tr th {\n",
       "        vertical-align: top;\n",
       "    }\n",
       "\n",
       "    .dataframe thead th {\n",
       "        text-align: right;\n",
       "    }\n",
       "</style>\n",
       "<table border=\"1\" class=\"dataframe\">\n",
       "  <thead>\n",
       "    <tr style=\"text-align: right;\">\n",
       "      <th></th>\n",
       "      <th>day</th>\n",
       "      <th>day_of_week</th>\n",
       "    </tr>\n",
       "  </thead>\n",
       "  <tbody>\n",
       "    <tr>\n",
       "      <th>0</th>\n",
       "      <td>2023-03-17 23:23:44.779937</td>\n",
       "      <td>Friday</td>\n",
       "    </tr>\n",
       "    <tr>\n",
       "      <th>1</th>\n",
       "      <td>2023-03-16 23:23:44.779937</td>\n",
       "      <td>Thursday</td>\n",
       "    </tr>\n",
       "    <tr>\n",
       "      <th>2</th>\n",
       "      <td>2023-03-15 23:23:44.779937</td>\n",
       "      <td>Wednesday</td>\n",
       "    </tr>\n",
       "    <tr>\n",
       "      <th>3</th>\n",
       "      <td>2023-03-14 23:23:44.779937</td>\n",
       "      <td>Tuesday</td>\n",
       "    </tr>\n",
       "    <tr>\n",
       "      <th>4</th>\n",
       "      <td>2023-03-13 23:23:44.779937</td>\n",
       "      <td>Monday</td>\n",
       "    </tr>\n",
       "  </tbody>\n",
       "</table>\n",
       "</div>"
      ],
      "text/plain": [
       "                         day day_of_week\n",
       "0 2023-03-17 23:23:44.779937      Friday\n",
       "1 2023-03-16 23:23:44.779937    Thursday\n",
       "2 2023-03-15 23:23:44.779937   Wednesday\n",
       "3 2023-03-14 23:23:44.779937     Tuesday\n",
       "4 2023-03-13 23:23:44.779937      Monday"
      ]
     },
     "execution_count": 4,
     "metadata": {},
     "output_type": "execute_result"
    }
   ],
   "source": [
    "df.head()"
   ]
  },
  {
   "cell_type": "code",
   "execution_count": 5,
   "id": "f1a6245b",
   "metadata": {},
   "outputs": [],
   "source": [
    "weekday_map = {'Monday' : 1,\n",
    "              'Tuesday' : 2,\n",
    "              'Wednesday' : 3,\n",
    "              'Thursday' : 4,\n",
    "              'Friday' : 5,\n",
    "              'Saturday' : 6,\n",
    "              'Sunday' : 7\n",
    "              }"
   ]
  },
  {
   "cell_type": "code",
   "execution_count": 8,
   "id": "696a724e",
   "metadata": {},
   "outputs": [],
   "source": [
    "df['originial_day'] = df['day_of_week'].map(weekday_map)"
   ]
  },
  {
   "cell_type": "code",
   "execution_count": 9,
   "id": "aead4f92",
   "metadata": {},
   "outputs": [
    {
     "data": {
      "text/html": [
       "<div>\n",
       "<style scoped>\n",
       "    .dataframe tbody tr th:only-of-type {\n",
       "        vertical-align: middle;\n",
       "    }\n",
       "\n",
       "    .dataframe tbody tr th {\n",
       "        vertical-align: top;\n",
       "    }\n",
       "\n",
       "    .dataframe thead th {\n",
       "        text-align: right;\n",
       "    }\n",
       "</style>\n",
       "<table border=\"1\" class=\"dataframe\">\n",
       "  <thead>\n",
       "    <tr style=\"text-align: right;\">\n",
       "      <th></th>\n",
       "      <th>day</th>\n",
       "      <th>day_of_week</th>\n",
       "      <th>originial_day</th>\n",
       "    </tr>\n",
       "  </thead>\n",
       "  <tbody>\n",
       "    <tr>\n",
       "      <th>0</th>\n",
       "      <td>2023-03-17 23:23:44.779937</td>\n",
       "      <td>5</td>\n",
       "      <td>NaN</td>\n",
       "    </tr>\n",
       "    <tr>\n",
       "      <th>1</th>\n",
       "      <td>2023-03-16 23:23:44.779937</td>\n",
       "      <td>4</td>\n",
       "      <td>NaN</td>\n",
       "    </tr>\n",
       "    <tr>\n",
       "      <th>2</th>\n",
       "      <td>2023-03-15 23:23:44.779937</td>\n",
       "      <td>3</td>\n",
       "      <td>NaN</td>\n",
       "    </tr>\n",
       "    <tr>\n",
       "      <th>3</th>\n",
       "      <td>2023-03-14 23:23:44.779937</td>\n",
       "      <td>2</td>\n",
       "      <td>NaN</td>\n",
       "    </tr>\n",
       "    <tr>\n",
       "      <th>4</th>\n",
       "      <td>2023-03-13 23:23:44.779937</td>\n",
       "      <td>1</td>\n",
       "      <td>NaN</td>\n",
       "    </tr>\n",
       "    <tr>\n",
       "      <th>5</th>\n",
       "      <td>2023-03-12 23:23:44.779937</td>\n",
       "      <td>7</td>\n",
       "      <td>NaN</td>\n",
       "    </tr>\n",
       "    <tr>\n",
       "      <th>6</th>\n",
       "      <td>2023-03-11 23:23:44.779937</td>\n",
       "      <td>6</td>\n",
       "      <td>NaN</td>\n",
       "    </tr>\n",
       "    <tr>\n",
       "      <th>7</th>\n",
       "      <td>2023-03-10 23:23:44.779937</td>\n",
       "      <td>5</td>\n",
       "      <td>NaN</td>\n",
       "    </tr>\n",
       "    <tr>\n",
       "      <th>8</th>\n",
       "      <td>2023-03-09 23:23:44.779937</td>\n",
       "      <td>4</td>\n",
       "      <td>NaN</td>\n",
       "    </tr>\n",
       "    <tr>\n",
       "      <th>9</th>\n",
       "      <td>2023-03-08 23:23:44.779937</td>\n",
       "      <td>3</td>\n",
       "      <td>NaN</td>\n",
       "    </tr>\n",
       "  </tbody>\n",
       "</table>\n",
       "</div>"
      ],
      "text/plain": [
       "                         day  day_of_week  originial_day\n",
       "0 2023-03-17 23:23:44.779937            5            NaN\n",
       "1 2023-03-16 23:23:44.779937            4            NaN\n",
       "2 2023-03-15 23:23:44.779937            3            NaN\n",
       "3 2023-03-14 23:23:44.779937            2            NaN\n",
       "4 2023-03-13 23:23:44.779937            1            NaN\n",
       "5 2023-03-12 23:23:44.779937            7            NaN\n",
       "6 2023-03-11 23:23:44.779937            6            NaN\n",
       "7 2023-03-10 23:23:44.779937            5            NaN\n",
       "8 2023-03-09 23:23:44.779937            4            NaN\n",
       "9 2023-03-08 23:23:44.779937            3            NaN"
      ]
     },
     "execution_count": 9,
     "metadata": {},
     "output_type": "execute_result"
    }
   ],
   "source": [
    "df.head(10)"
   ]
  },
  {
   "cell_type": "code",
   "execution_count": null,
   "id": "e82e4030",
   "metadata": {},
   "outputs": [],
   "source": []
  }
 ],
 "metadata": {
  "kernelspec": {
   "display_name": "Python 3 (ipykernel)",
   "language": "python",
   "name": "python3"
  },
  "language_info": {
   "codemirror_mode": {
    "name": "ipython",
    "version": 3
   },
   "file_extension": ".py",
   "mimetype": "text/x-python",
   "name": "python",
   "nbconvert_exporter": "python",
   "pygments_lexer": "ipython3",
   "version": "3.9.7"
  }
 },
 "nbformat": 4,
 "nbformat_minor": 5
}
